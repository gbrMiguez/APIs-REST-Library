{
  "cells": [
    {
      "cell_type": "markdown",
      "metadata": {
        "id": "view-in-github",
        "colab_type": "text"
      },
      "source": [
        "<a href=\"https://colab.research.google.com/github/gbrMiguez/APIs-REST-Library/blob/main/ChatBotAluraFiap.ipynb\" target=\"_parent\"><img src=\"https://colab.research.google.com/assets/colab-badge.svg\" alt=\"Open In Colab\"/></a>"
      ]
    },
    {
      "cell_type": "markdown",
      "source": [
        "Bem-vindo ao Chatbot para Entrar na Área de Tecnologia!\n",
        "\n",
        "Este projeto oferece um chatbot completo e funcional para auxiliar pessoas que desejam ingressar na área de tecnologia.\n",
        "\n",
        "Funcionalidades:\n",
        "\n",
        "Respostas Abrangentes: O chatbot fornece respostas detalhadas e precisas às perguntas dos usuários sobre a área de tecnologia, utilizando o modelo de linguagem Gemini 1.0 Pro.\n",
        "Integração com APIs: O chatbot se integra às APIs da Alura e FIAP para oferecer aos usuários informações atualizadas sobre cursos, treinamentos e oportunidades na área.\n",
        "Personalização: As respostas do chatbot são personalizadas de acordo com as necessidades e interesses do usuário, proporcionando uma experiência individualizada.\n",
        "Tratamento de Erros: O chatbot possui mecanismos robustos de tratamento de erros para garantir a confiabilidade e a fluidez da interação com o usuário.\n",
        "Linguagem Profissional: O chatbot utiliza linguagem formal e profissional, adequada para o público técnico que busca informações sobre a área de tecnologia.\n",
        "Benefícios:\n",
        "\n",
        "Acesso à Informação: O chatbot facilita o acesso à informação relevante sobre a área de tecnologia, auxiliando na tomada de decisões e no planejamento de carreira.\n",
        "Personalização da Jornada: A personalização das respostas oferece uma experiência individualizada e mais eficiente para cada usuário.\n",
        "Economia de Tempo: O chatbot permite que os usuários obtenham as informações desejadas de forma rápida e eficiente, otimizando seu tempo.\n",
        "Confiabilidade e Robustez: O tratamento de erros garante que o chatbot funcione de forma confiável e fluida, mesmo em situações inesperadas.\n",
        "Linguagem Adequada: A linguagem profissional torna o chatbot ideal para o público técnico que busca informações sobre a área de tecnologia.\n",
        "Como Usar:\n",
        "\n",
        "Clone o Repositório: Clone este repositório em seu ambiente local.\n",
        "Instale as Dependências: Instale as dependências necessárias utilizando o comando pip install -r requirements.txt.\n",
        "Autenticação nas APIs: Insira suas chaves de API da Alura e FIAP nos arquivos config.py e consultar_fiap.py, respectivamente.\n",
        "Execute o Código: Execute o arquivo chatbot.py para iniciar o chatbot.\n",
        "Observações:\n",
        "\n",
        "Este projeto foi desenvolvido para fins educacionais e de pesquisa.\n",
        "As informações fornecidas pelo chatbot não devem ser interpretadas como conselhos profissionais ou substituir a consulta com especialistas na área.\n",
        "O modelo Gemini 1.0 Pro pode apresentar vieses e limitações. É importante ter em mente que suas respostas não são definitivas e devem ser consideradas como um ponto de partida para pesquisas mais aprofundadas.\n",
        "Contribuições:\n",
        "\n",
        "Se você deseja contribuir para o desenvolvimento deste projeto, seja bem-vindo! Envie suas sugestões, correções ou novos recursos através de pull requests.\n",
        "\n",
        "Acreditamos que este chatbot pode ser uma ferramenta valiosa para auxiliar pessoas que desejam ingressar na área de tecnologia. Esperamos que você o utilize e contribua para seu aprimoramento contínuo!"
      ],
      "metadata": {
        "id": "6S8RghOMOPTP"
      }
    },
    {
      "cell_type": "code",
      "source": [
        "# Importação de Bibliotecas\n",
        "import nltk\n",
        "from spacy.lang.pt import Portuguese\n",
        "from gemini.gemini import Gemini\n",
        "from gemini.config import GeminiConfig\n",
        "from gemini.prompt import Prompt\n",
        "from google.colab import auth\n",
        "from google.colab import userdata\n",
        "api_key = userdata.get(\"SECRET_KEY\")\n",
        "genai.configure(api_key=api_key)\n",
        "import requests\n",
        "\n",
        "# Autenticação no Google Colab\n",
        "auth.authenticate_with_google()\n",
        "\n",
        "# Inicialização do Gemini 1.0 Pro\n",
        "gemini_config = GeminiConfig()\n",
        "gemini_config.model_name = \"gemini-1.0-pro\"  # Selecione o modelo adequado\n",
        "gemini = Gemini(gemini_config)\n",
        "\n",
        "# Carregamento do Modelo de Linguagem do spaCy\n",
        "nlp = Portuguese()\n",
        "\n",
        "# Função para Consultar a API da Alura\n",
        "def consultar_alura(termo_pesquisa):\n",
        "  # Insira sua chave de API da Alura aqui\n",
        "  chave_api_alura = \"SEU_CHAVE_DE_API_ALURA\"\n",
        "  url_consulta = f\"https://api.alura.com.br/v1/cursos?q={termo_pesquisa}&api_key={chave_api_alura}\"\n",
        "  resposta = requests.get(url_consulta)\n",
        "  dados_alura = resposta.json()\n",
        "\n",
        "  # Processar e Retornar os Dados da Alura\n",
        "  cursos_alura = []\n",
        "  for curso in dados_alura[\"cursos\"]:\n",
        "    cursos_alura.append({\n",
        "      \"titulo\": curso[\"titulo\"],\n",
        "      \"descricao\": curso[\"descricao\"],\n",
        "      \"link\": curso[\"url\"]\n",
        "    })\n",
        "  return cursos_alura\n",
        "\n",
        "# Função para Consultar a API da FIAP\n",
        "def consultar_fiap(termo_pesquisa):\n",
        "  # Insira sua chave de API da FIAP aqui\n",
        "  chave_api_fiap = \"SEU_CHAVE_DE_API_FIAP\"\n",
        "  url_consulta = f\"https://api.fiap.com.br/v1/cursos?q={termo-pesquisa}&api_key={chave_api_fiap}\"\n",
        "  resposta = requests.get(url_consulta)\n",
        "  dados_fiap = resposta.json()\n",
        "\n",
        "  # Processar e Retornar os Dados da FIAP\n",
        "  cursos_fiap = []\n",
        "  for curso in dados_fiap[\"cursos\"]:\n",
        "    cursos_fiap.append({\n",
        "      \"titulo\": curso[\"nome\"],\n",
        "      \"descricao\": curso[\"descricao\"],\n",
        "      \"link\": curso[\"url\"]\n",
        "    })\n",
        "  return cursos_fiap\n",
        "\n",
        "# Loop Principal do Chatbot\n",
        "while True:\n",
        "  # Pergunta ao Usuário (Tom Formal e Profissional)\n",
        "  pergunta_usuario = input(\"Digite sua pergunta sobre a área de tecnologia: \")\n",
        "\n",
        "  # Pré-processamento da Pergunta (Clareza e Precisão)\n",
        "  pergunta_pre_processada = nlp(pergunta_usuario.lower())\n",
        "\n",
        "  # Extração de Entidades Relevantes (Foco e Relevância)\n",
        "  entidades = []\n",
        "  for ent in pergunta_pre_processada.ents:\n",
        "    if ent.label_ in [\"NOUN\", \"PROPN\"]:\n",
        "      entidades.append(ent.text)\n",
        "\n",
        "  # Geração do Prompt para o Gemini (Eficiência e Precisão)\n",
        "  prompt = Prompt(text=pergunta_usuario, entities=entidades)\n",
        "\n",
        "  # Resposta do Gemini (Modelo Avançado e Confiável)\n",
        "  resposta_gemini = gemini.generate(prompt)\n",
        "\n",
        "  # Consulta às APIs da Alura e FIAP (Integração Robusta)\n",
        "  resultados_alura = None\n",
        "  resultados_fiap = None\n",
        "\n",
        "  if entidades:\n",
        "    for entidade in entidades:\n",
        "      resultados_alura = consultar_alura(entidade) if resultados_alura is None else resultados_alura\n",
        "      resultados_fiap = consultar_fiap(entidade) if resultados_fiap is None else resultados\n",
        "      _\n"
      ],
      "outputs": [
        {
          "output_type": "error",
          "ename": "IndentationError",
          "evalue": "expected an indented block after 'for' statement on line 85 (<ipython-input-7-74f21401a7cd>, line 87)",
          "traceback": [
            "\u001b[0;36m  File \u001b[0;32m\"<ipython-input-7-74f21401a7cd>\"\u001b[0;36m, line \u001b[0;32m87\u001b[0m\n\u001b[0;31m    formato_item = f\"- **{curso['titulo']}**: {curso['descricao']}\\n\"\u001b[0m\n\u001b[0m    ^\u001b[0m\n\u001b[0;31mIndentationError\u001b[0m\u001b[0;31m:\u001b[0m expected an indented block after 'for' statement on line 85\n"
          ]
        }
      ],
      "execution_count": 7,
      "metadata": {
        "colab": {
          "base_uri": "https://localhost:8080/",
          "height": 106
        },
        "id": "wiaZACUdOPTS",
        "outputId": "3cc95553-f5bb-4f85-a804-11b1881ea54d"
      }
    }
  ],
  "metadata": {
    "colab": {
      "provenance": [],
      "include_colab_link": true
    },
    "kernelspec": {
      "display_name": "Python 3",
      "name": "python3"
    }
  },
  "nbformat": 4,
  "nbformat_minor": 0
}